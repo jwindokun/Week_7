{
 "metadata": {
  "name": "",
  "signature": "sha256:551e2672dfdd2ea5257c1b2812d67f1c5a6bd5380d77377dacfcc52a49855758"
 },
 "nbformat": 3,
 "nbformat_minor": 0,
 "worksheets": [
  {
   "cells": [
    {
     "cell_type": "heading",
     "level": 1,
     "metadata": {},
     "source": [
      "Week 7 Python Assignement"
     ]
    },
    {
     "cell_type": "code",
     "collapsed": false,
     "input": [
      "from bs4 import BeautifulSoup\n",
      "import urllib2\n",
      "#pageFile = urllib2.urlopen(\"http://www.utexas.edu/world/univ/alpha/\")\n",
      "\n",
      "pageFile = urllib2.urlopen(\"http://www.cnn.com\")\n",
      "soup = BeautifulSoup(pageFile.read())\n",
      "\n",
      "\n",
      "tags = soup('link')\n",
      "\n",
      "for tag in tags:\n",
      "    print 'URL:', tag.get('href', None)"
     ],
     "language": "python",
     "metadata": {},
     "outputs": [
      {
       "output_type": "stream",
       "stream": "stdout",
       "text": [
        "URL: http://www.cnn.com/\n",
        "URL: http://www.cnn.com/favicon.ie9.ico\n",
        "URL: /tools/search/cnncom.xml\n",
        "URL: /tools/search/cnncomvideo.xml\n",
        "URL: http://i.cdn.turner.com/cnn/.e/img/3.0/global/misc/apple-touch-icon.png\n",
        "URL: http://rss.cnn.com/rss/cnn_topstories.rss\n",
        "URL: http://rss.cnn.com/rss/cnn_latest.rss\n",
        "URL: http://edition.cnn.com\n",
        "URL: http://arabic.cnn.com\n",
        "URL: http://mexico.cnn.com\n",
        "URL: https://plus.google.com/u/0/b/117515799321987910349/117515799321987910349/posts\n",
        "URL: http://z.cdn.turner.com/cnn/tmpl_asset/static/www_homepage/2892/css/hplib-min.css\n"
       ]
      }
     ],
     "prompt_number": 2
    },
    {
     "cell_type": "code",
     "collapsed": false,
     "input": [],
     "language": "python",
     "metadata": {},
     "outputs": []
    }
   ],
   "metadata": {}
  }
 ]
}